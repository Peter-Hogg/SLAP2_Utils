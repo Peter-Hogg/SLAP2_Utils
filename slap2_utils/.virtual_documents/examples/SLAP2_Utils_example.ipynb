





from slap2_utils.datafile import DataFile


binaryFilePath = "3DExampleScan.dat"
dataFile = DataFile(binaryFilePath)





display(dataFile.header)





print('Number of imaging planes: ', dataFile.header['numSlices'], '\nList of recorded channels :',dataFile.header['channels'])





# Here is an example of import data stored in the `MetaData` object
print('The laser AOM was set to: ', dataFile.metaData.aomVoltage)
print('The duration of the acquisition was', dataFile.metaData.acqDuration_s, 'secs')
      





print('The number of ROIs in the acquistion is: ', len(dataFile.metaData.AcquisitionContainer.ROIs))





print("ROI Imaging Mode: ", dataFile.metaData.AcquisitionContainer.ROIs[0].imageMode, "\n")
print("ROI Type: ", dataFile.metaData.AcquisitionContainer.ROIs[0].roiType, "\n")
print("Shape Data: ", dataFile.metaData.AcquisitionContainer.ROIs[0].shapeData, "\n")
print("Remote focusing position (um): ", dataFile.metaData.AcquisitionContainer.ROIs[0].z, "\n")






from slap2_utils.utils import roi_utils
import matplotlib.pyplot as plt
import numpy as np





# Plotting the pixels belonging to the ROI at index 10 in dataFile.metaData.AcquisitionContainer.ROIs
roi_utils.roiImg(dataFile, 10)
plt.imshow(roi_utils.roiImg(dataFile, 10))
plt.show()

# The same data in an boolean array
print(np.unique(roi_utils.roiBoolean(dataFile, 10)))



# Ploting all the ROIs on a particular plane of the acquisition
roiLabelArray = roi_utils.roiLabels(dataFile)
plt.imshow(roiLabelArray[15, :, :])
plt.show()





from slap2_utils.utils.plots import slap2Plots
import ipywidgets as widgets
from IPython.display import display
%matplotlib inline


slap2Plots.roiOverlaySuperPix(dataFile, np.zeros_like(roiLabelArray), 15)



import ipywidgets as widgets
from IPython.display import display

# Simple slider example
slider = widgets.IntSlider(value=5, min=0, max=10, step=1, description='Test Slider:')
display(slider)

# Observe slider changes
def on_value_change(change):
    print(f"Slider value changed to {change['new']}")

slider.observe(on_value_change, names='value')






from slap2_utils.utils import trace
from slap2_utils.functions import tracefunctions


# Let's extract a trace for ROI 15
# we need to get determine what channel, there is only one in this simulated recording
chIdx = 1
# We need to find the ROI's Z position in the fastz of the DataFile
roi15 = dataFile.metaData.AcquisitionContainer.ROIs[15]
zIdx = dataFile.fastZs.index(roi15.z)
print(zIdx)


# Can now initialize the Trace object
Trace = trace.Trace(dataFile, zIdx, chIdx)

# We need to set the pixel mask for Trace generation
roi15Mask = roi_utils.roiBoolean(dataFile, 15)

# Exclude any raster-mode pixels
rasterPixels = None

Trace.setPixelIdxs(rasterPixels, roi15Mask)

#We can smooth the trace with temporal weights 
trace15, sumDataWeighted, sumExpected, sumExpectedWeighted  = Trace.process(150, 1000)
plt.plot(trace15)
plt.show()

# Or we can set the weighted windows to 1 and return the raw trace
rawtrace15, sumDataWeighted, sumExpected, sumExpectedWeighted  = Trace.process(1, 1)
plt.plot(rawtrace15)
plt.show()

# Traces from volumetric acquistions need to be futher processed to remove times when the the microscope was focused on a different plane
Trace.orderadjust()
volumetricTrace15 = tracefunctions.cleanVolumeTrace(dataFile, zIdx, rawtrace15)
plt.plot(volumetricTrace15)
plt.show()





rawTrace15, volumeTrace15 = tracefunctions.returnVolumeTrace(dataFile, 15)
plt.plot(volumeTrace15)
plt.show()






